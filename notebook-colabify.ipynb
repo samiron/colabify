{
  "nbformat": 4,
  "nbformat_minor": 0,
  "metadata": {
    "colab": {
      "name": "github-to-colab-codegen.ipynb",
      "provenance": [],
      "collapsed_sections": [],
      "mount_file_id": "1opTLDXdVtGYcLMj-vHkAbl2mW4Tw1I1j",
      "authorship_tag": "ABX9TyMDk25rrbBlEb+9uBXsegcb",
      "include_colab_link": true
    },
    "kernelspec": {
      "name": "python3",
      "display_name": "Python 3"
    },
    "language_info": {
      "name": "python"
    }
  },
  "cells": [
    {
      "cell_type": "markdown",
      "metadata": {
        "id": "view-in-github",
        "colab_type": "text"
      },
      "source": [
        "<a href=\"https://colab.research.google.com/github/samiron/colabify/blob/main/notebook-colabify.ipynb\" target=\"_parent\"><img src=\"https://colab.research.google.com/assets/colab-badge.svg\" alt=\"Open In Colab\"/></a>"
      ]
    },
    {
      "cell_type": "code",
      "metadata": {
        "id": "gDXCPBcN2QcI",
        "colab": {
          "base_uri": "https://localhost:8080/"
        },
        "outputId": "ca30ac8b-3010-4982-d701-d6104b43ffbe"
      },
      "source": [
        "import os\n",
        "\n",
        "def cd(path):\n",
        "  print('%cd {}'.format(path))\n",
        "\n",
        "def gdrive_mount(mpath):\n",
        "  print(\"\"\"\n",
        "from google.colab import drive\n",
        "drive.mount('{}')\"\"\".format(mpath))\n",
        "\n",
        "def project_dir_as_lib(prjpath):\n",
        "  print(\"\"\"\n",
        "import sys\n",
        "sys.path.append('{}')\"\"\".format(prjpath))\n",
        "  \n",
        "def project_info(prjname, ghrepo):\n",
        "  print(\"\"\"\n",
        "project_name = '{}'\n",
        "github_repo = '{}'\n",
        "  \"\"\".format(prjname, ghrepo))\n",
        "\n",
        "\n",
        "#@title First Time Setup { vertical-output: true, form-width: \"30%\" }\n",
        "project_name = \"colabify\" #@param {type:\"string\"}\n",
        "github_repo = \"https://github.com/samiron/colabify\" #@param {type:\"string\"}\n",
        "clone_area = \"Google Drive\" #@param [\"None\", \"Google Drive\", \"Colab space\"]\n",
        "\n",
        "# Do not modify below\n",
        "if(clone_area == 'Google Drive'):\n",
        "  print('Mounting google drive')\n",
        "  mount_path = '/content/drive'\n",
        "  project_path = mount_path + '/MyDrive/' + project_name\n",
        "\n",
        "  from google.colab import drive\n",
        "  drive.mount(mount_path)\n",
        "elif(clone_area == 'Colab space'):\n",
        "  project_path = '/content/' + project_name\n",
        "\n",
        "if(clone_area != 'None'):\n",
        "  print(\"Going to clone {} into {}\".format(github_repo, project_path))\n",
        "  if(os.path.isdir(project_path)):\n",
        "    print(\"Looks like '{}' already cloned\".format(github_repo))\n",
        "  else:\n",
        "    ! git clone \"$github_repo\" \"$project_path\"\n",
        "\n",
        "print('\\n\\nCopy the following code at the top of your notebook')\n",
        "print('#===============================================')\n",
        "project_info(project_name, github_repo)\n",
        "if(clone_area == 'Google Drive'):\n",
        "  gdrive_mount(mount_path);\n",
        "project_dir_as_lib(project_path);\n",
        "cd(project_path)\n",
        "\n",
        "print('\\n#===============================================')"
      ],
      "execution_count": null,
      "outputs": [
        {
          "output_type": "stream",
          "name": "stdout",
          "text": [
            "Mounting google drive\n",
            "Drive already mounted at /content/drive; to attempt to forcibly remount, call drive.mount(\"/content/drive\", force_remount=True).\n",
            "Going to clone https://github.com/samiron/colabify into /content/drive/MyDrive/colabify\n",
            "Cloning into '/content/drive/MyDrive/colabify'...\n",
            "remote: Enumerating objects: 9, done.\u001b[K\n",
            "remote: Counting objects: 100% (9/9), done.\u001b[K\n",
            "remote: Compressing objects: 100% (6/6), done.\u001b[K\n",
            "remote: Total 9 (delta 1), reused 0 (delta 0), pack-reused 0\u001b[K\n",
            "Unpacking objects: 100% (9/9), done.\n",
            "\n",
            "\n",
            "Copy the following code on top of your notebook\n",
            "#===============================================\n",
            "\n",
            "project_name = 'colabify'\n",
            "github_repo = 'https://github.com/samiron/colabify'\n",
            "  \n",
            "\n",
            "from google.colab import drive\n",
            "drive.mount('/content/drive')\n",
            "\n",
            "import sys\n",
            "sys.path.append('/content/drive/MyDrive/colabify')\n",
            "%cd /content/drive/MyDrive/colabify\n",
            "\n",
            "#===============================================\n"
          ]
        }
      ]
    },
    {
      "cell_type": "code",
      "metadata": {
        "id": "p29VLYO0Q-O0"
      },
      "source": [
        "# Print current directory\n",
        "\n",
        "# Extracting a 7zip file\n",
        "!7za e -y data/Seinfeld_Scripts.7z -odata/\n",
        "\n",
        "# Creating a 7zip archive\n"
      ],
      "execution_count": null,
      "outputs": []
    },
    {
      "cell_type": "markdown",
      "metadata": {
        "id": "Od2lIFCfTrr-"
      },
      "source": [
        "## Troubleshooting\n",
        "\n",
        "### IOPub data rate exceeded\n",
        "Run the following in a code cell.  \n",
        "This might happen if you are trying to print a large amount of text in console. Here are some tips how you peek into a part of the data\n"
      ]
    }
  ]
}